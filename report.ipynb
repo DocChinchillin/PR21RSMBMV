{
 "cells": [
  {
   "cell_type": "code",
   "execution_count": 1,
   "metadata": {},
   "outputs": [],
   "source": [
    "import numpy as np\n",
    "import pandas as pd\n",
    "import matplotlib.pyplot as plt\n",
    "\n",
    "from keras.utils.np_utils import to_categorical\n",
    "from keras.layers import Convolution2D, MaxPooling2D, Dense, Dropout, Lambda, Flatten\n",
    "from keras.models import Sequential\n",
    "from keras.optimizers import Adam\n",
    "from keras.preprocessing import image\n",
    "from keras.preprocessing.image import ImageDataGenerator\n",
    "from sklearn.model_selection import train_test_split"
   ]
  },
  {
   "cell_type": "markdown",
   "metadata": {},
   "source": [
    "## Učenje modela s CNN Model ###\n",
    "\n",
    "#### Najprej naložimo podatke in jih razdelimo na testno in učno množico ter spremenimo format podatkov.\n"
   ]
  },
  {
   "cell_type": "code",
   "execution_count": 2,
   "metadata": {},
   "outputs": [],
   "source": [
    "train = pd.read_csv('podatki/train.csv')\n",
    "test = pd.read_csv('podatki/test.csv')\n",
    "X_train = (train.iloc[:, 1:].values).astype('float32')  #vsi pixli\n",
    "Y_train = train.iloc[:, 0].values.astype('int32') #target stevilke\n",
    "X_test = test.values.astype('float32')\n",
    "\n",
    "\n",
    "                        #(slika, #st vrstic, #st stolpcev, #barva)\n",
    "X_train = X_train.reshape(X_train.shape[0], 28, 28, 1)\n",
    "X_test = X_test.reshape(X_test.shape[0], 28, 28, 1)\n"
   ]
  },
  {
   "cell_type": "markdown",
   "metadata": {},
   "source": [
    "#### Podatke standardiziramo, tako podatke centriramo okoli varijance in povprečja, z funkcijo \"stand\""
   ]
  },
  {
   "cell_type": "code",
   "execution_count": 3,
   "metadata": {},
   "outputs": [],
   "source": [
    "mean_pixl = X_train.mean().astype(np.float32)\n",
    "std_pikl = X_train.std().astype(np.float32)\n",
    "def stand(x):\n",
    "    return (x-mean_pixl)/std_pikl\n"
   ]
  },
  {
   "cell_type": "markdown",
   "metadata": {},
   "source": [
    "#### Uporabimo \"One-Hot encoding\" da določimo števila od 0 do 9. Primer: [0, 0, 0, 0, 0, 1, 0, 0, 0, 0]  predstavlja številko 5. Torej tam kjer je bit 1 vzamemo indeks in dobimo številko. "
   ]
  },
  {
   "cell_type": "code",
   "execution_count": 4,
   "metadata": {},
   "outputs": [],
   "source": [
    "import tensorflow as tf\n",
    "from keras.utils.np_utils import to_categorical\n",
    "Y_train = to_categorical(Y_train)\n",
    "num_of_classes = Y_train.shape[1]\n",
    "num_of_classes"
   ]
  },
  {
   "cell_type": "markdown",
   "metadata": {},
   "source": [
    "#### CNN - Convolution Neural Network, so najbolj uporabne pri procesiranju slik, zato smo jih tudi uporabli za naš model.\n"
   ]
  },
  {
   "cell_type": "code",
   "execution_count": 5,
   "metadata": {},
   "outputs": [],
   "source": [
    "X_train, X_val, Y_train, Y_val = train_test_split(X_train, Y_train, test_size=0.1, random_state=42)\n",
    "\n",
    "def cnn_model():\n",
    "    model = Sequential([\n",
    "        Lambda(stand, input_shape=(28, 28, 1)),\n",
    "        Convolution2D(32, (3, 3), activation='relu'),\n",
    "        Convolution2D(32, (3, 3), activation='relu'),\n",
    "        MaxPooling2D(),\n",
    "        Convolution2D(64, (3, 3), activation='relu'),\n",
    "        Convolution2D(64, (3, 3), activation='relu'),\n",
    "        MaxPooling2D(),\n",
    "        Flatten(),\n",
    "        Dense(512, activation='relu'),\n",
    "        Dense(10, activation='softmax')\n",
    "    ])\n",
    "    model.compile(Adam(), loss='categorical_crossentropy', metrics=['accuracy'])\n",
    "    return model\n",
    "\n",
    "model = cnn_model()"
   ]
  },
  {
   "cell_type": "markdown",
   "metadata": {},
   "source": [
    "## Grafični vmesnik za prepoznavanje števil"
   ]
  },
  {
   "cell_type": "markdown",
   "metadata": {},
   "source": [
    "Poleg testnih podatkov iz Kaggla smo dodali grafični vmesnik za prepoznavanje števil, ki temelji na knjižnici PyQt5. Vanj lahko z uporabo miške napišemo želeno število, program pa ga na podlagi vnaprej naučenega modela poskuša prepoznati in izpiše natančnost te ocene.\n",
    "\n",
    "[Slika vmesnika](screen_GUI.png)"
   ]
  },
  {
   "cell_type": "markdown",
   "metadata": {},
   "source": [
    "Za pridobivanje slike iz grafičnega vmesnika je narisano sliko potrebno shraniti, jo pomanjšati na velikost 28×28 in zmanjšati globino slike iz 24 na 8 bitov (256&nbsp;barv). Tak zapis je primeren za napoved z vnaprej naučenim modelom."
   ]
  },
  {
   "cell_type": "code",
   "execution_count": 6,
   "metadata": {},
   "outputs": [],
   "source": [
    "def get_image():\n",
    "    img = window.label.grab().toImage().save('../podatki/num.jpg')\n",
    "    img = Image.open('../podatki/num.jpg')\n",
    "    img = img.resize((28, 28))\n",
    "    img = img.convert('L')\n",
    "    img_array = np.array(img)\n",
    "    pred, acc = predict_GUI_number(model, img_array)"
   ]
  },
  {
   "cell_type": "markdown",
   "metadata": {},
   "source": []
  }
 ],
 "metadata": {
  "kernelspec": {
   "display_name": "Python 3",
   "language": "python",
   "name": "python3"
  },
  "language_info": {
   "codemirror_mode": {
    "name": "ipython",
    "version": 3
   },
   "file_extension": ".py",
   "mimetype": "text/x-python",
   "name": "python",
   "nbconvert_exporter": "python",
   "pygments_lexer": "ipython3",
   "version": "3.8.5"
  }
 },
 "nbformat": 4,
 "nbformat_minor": 5
}
